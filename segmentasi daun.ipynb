{
 "cells": [
  {
   "cell_type": "code",
   "execution_count": 1,
   "id": "db87cad6",
   "metadata": {},
   "outputs": [],
   "source": [
    "import cv2\n",
    "import numpy as np\n",
    "from matplotlib import pyplot as plt"
   ]
  },
  {
   "cell_type": "markdown",
   "id": "8f9b69a8",
   "metadata": {},
   "source": [
    "# Deteksi Garis & Tepi"
   ]
  },
  {
   "cell_type": "code",
   "execution_count": 2,
   "id": "70947da6",
   "metadata": {},
   "outputs": [],
   "source": [
    "img = cv2.imread(\"parking_lot.png\")"
   ]
  },
  {
   "cell_type": "code",
   "execution_count": 3,
   "id": "8951c839",
   "metadata": {},
   "outputs": [],
   "source": [
    "cv2.imshow(\"Gambar Parkiran Kelas F\",img)\n",
    "cv2.waitKey(0)\n",
    "cv2.destroyAllWindows()"
   ]
  },
  {
   "cell_type": "code",
   "execution_count": 4,
   "id": "8f0b4d84",
   "metadata": {},
   "outputs": [],
   "source": [
    "#mengubah gambar ke bentuk Gray\n",
    "gray = cv2.cvtColor(img, cv2.COLOR_BGR2GRAY)\n",
    "#mengubah gambar berbentuk garis dan tepi\n",
    "edges = cv2.Canny(img, 100, 150)"
   ]
  },
  {
   "cell_type": "code",
   "execution_count": 5,
   "id": "beefe55e",
   "metadata": {},
   "outputs": [],
   "source": [
    "cv2.imshow(\"Gambar Parkiran Garis dan Tepi\", edges)\n",
    "cv2.waitKey(0)\n",
    "cv2.destroyAllWindows()"
   ]
  },
  {
   "cell_type": "code",
   "execution_count": 6,
   "id": "2cfa37dd",
   "metadata": {},
   "outputs": [],
   "source": [
    "lines = cv2.HoughLinesP(edges, 1, np.pi/180, 30, maxLineGap = 250)\n",
    "img_line = img.copy()"
   ]
  },
  {
   "cell_type": "code",
   "execution_count": 7,
   "id": "5a9b7128",
   "metadata": {},
   "outputs": [],
   "source": [
    "for line in lines :\n",
    "    x1, y1, x2, y2 = line[0]\n",
    "    cv2.line(img_line, (x1,y1), (x2,y2), (0,0,255), 1)"
   ]
  },
  {
   "cell_type": "code",
   "execution_count": 8,
   "id": "ae65e4e0",
   "metadata": {},
   "outputs": [],
   "source": [
    "cv2.imshow(\"Gambar Parkiran Garis Merah\", img_line)\n",
    "cv2.waitKey(0)\n",
    "cv2.destroyAllWindows()"
   ]
  },
  {
   "cell_type": "markdown",
   "id": "c4130fad",
   "metadata": {},
   "source": [
    "# Pengambangan Dwi Aras"
   ]
  },
  {
   "cell_type": "code",
   "execution_count": 9,
   "id": "14c48b1c",
   "metadata": {},
   "outputs": [],
   "source": [
    "daun = cv2.imread(\"daun.png\", 0)\n",
    "tinggi, lebar = daun.shape"
   ]
  },
  {
   "cell_type": "code",
   "execution_count": 10,
   "id": "541c8855",
   "metadata": {},
   "outputs": [],
   "source": [
    "cv2.imshow(\"Gambar Buah Berwarna Abu-Abu\", daun)\n",
    "cv2.waitKey(0)\n",
    "cv2.destroyAllWindows()"
   ]
  },
  {
   "cell_type": "code",
   "execution_count": 34,
   "id": "d83cd024",
   "metadata": {},
   "outputs": [],
   "source": [
    "nilai_ambang = 128\n",
    "daun_hasil = daun.copy()\n",
    "for x in range(tinggi):\n",
    "    for y in range(lebar):\n",
    "        if daun[x,y] < nilai_ambang :\n",
    "            daun_hasil[x,y] = 0\n",
    "        else:\n",
    "            daun_hasil[x,y] = 255"
   ]
  },
  {
   "cell_type": "code",
   "execution_count": 35,
   "id": "578a9030",
   "metadata": {},
   "outputs": [],
   "source": [
    "def titeratif(image) :\n",
    "  tinggi, lebar = image.shape[:2]\n",
    "  t0 = 127\n",
    "  while(True) :\n",
    "    rata_kiri = 0;\n",
    "    rata_kanan = 0;\n",
    "    jum_kiri = 0;\n",
    "    jum_kanan = 0;\n",
    "    for x in range(tinggi):\n",
    "      for y in range(lebar):\n",
    "        if(image[x,y] <= 127) :\n",
    "          rata_kiri = rata_kiri + image[x,y]\n",
    "          jum_kiri = jum_kiri + 1\n",
    "        else :\n",
    "          rata_kanan = rata_kanan + image[x,y]\n",
    "          jum_kanan = jum_kanan + 1\n",
    "   \n",
    "    rata_kiri = rata_kiri / jum_kiri\n",
    "    rata_kanan = rata_kanan / jum_kanan\n",
    "    t1 = (rata_kiri + rata_kanan) / 2\n",
    "    if ((t0 - t1) < 1) :\n",
    "      break\n",
    "    t0 = t1\n",
    "  return round(t1)"
   ]
  },
  {
   "cell_type": "code",
   "execution_count": 36,
   "id": "ee7d7632",
   "metadata": {},
   "outputs": [
    {
     "data": {
      "text/plain": [
       "164"
      ]
     },
     "execution_count": 36,
     "metadata": {},
     "output_type": "execute_result"
    }
   ],
   "source": [
    "titeratif(daun)"
   ]
  },
  {
   "cell_type": "code",
   "execution_count": 37,
   "id": "6d982919",
   "metadata": {},
   "outputs": [],
   "source": [
    "cv2.imshow(\"Gambar Buah Berwarna Abu-Abu\", daun_hasil)\n",
    "cv2.waitKey(0)\n",
    "cv2.destroyAllWindows()"
   ]
  },
  {
   "cell_type": "markdown",
   "id": "4b5f0329",
   "metadata": {},
   "source": [
    "# Aras Jamak"
   ]
  },
  {
   "cell_type": "code",
   "execution_count": 38,
   "id": "34ce12af",
   "metadata": {},
   "outputs": [],
   "source": [
    "def arasjamak(image, t1, t2):\n",
    "    res = image\n",
    "    m,n = image.shape\n",
    "    for x in range(m):\n",
    "        for y in range(n):\n",
    "            if image[x,y] <= t1 or image[x,y] >= t2:\n",
    "                res[x,y] = 0\n",
    "            else:\n",
    "                res[x,y] = 255\n",
    "            return res"
   ]
  },
  {
   "cell_type": "code",
   "execution_count": 39,
   "id": "3594426c",
   "metadata": {},
   "outputs": [],
   "source": [
    "res = arasjamak(daun, 175, 220)"
   ]
  },
  {
   "cell_type": "code",
   "execution_count": 40,
   "id": "1fa22d97",
   "metadata": {},
   "outputs": [],
   "source": [
    "cv2.imshow(\"Image aras jamak\", res)\n",
    "cv2.waitKey(0)\n",
    "cv2.destroyAllWindows()"
   ]
  },
  {
   "cell_type": "code",
   "execution_count": 41,
   "id": "56d7558e",
   "metadata": {},
   "outputs": [],
   "source": [
    "daun = cv2.imread(\"daun.png\")\n",
    "daun_hsl = cv2.cvtColor(daun, cv2.COLOR_BGR2HLS)\n",
    "tinggi,lebar = daun.shape[:2]"
   ]
  },
  {
   "cell_type": "code",
   "execution_count": 42,
   "id": "d7b10aba",
   "metadata": {},
   "outputs": [],
   "source": [
    "for x in range(tinggi):\n",
    "    for y in range(lebar):\n",
    "        h, l, s = daun_hsl[x, y]\n",
    "        if h < 11 :\n",
    "            h = 0\n",
    "        elif h < 32 :\n",
    "            h = 21\n",
    "        elif h < 54 :\n",
    "            h = 43;\n",
    "        elif h < 116 :\n",
    "            h = 85;\n",
    "        elif h < 141 :\n",
    "            h = 128;\n",
    "        elif h < 185 :\n",
    "            h = 170;\n",
    "        elif h < 202 :\n",
    "            h = 191;\n",
    "        elif h < 223 :\n",
    "            h = 213;\n",
    "        elif h < 244 :\n",
    "            h = 234;\n",
    "        else :\n",
    "            h = 0;\n",
    "        daun_hsl[x,y][0] = h\n",
    "\n",
    "        if s >= 200 :\n",
    "            daun_hsl[x,y][2] = 255\n",
    "        elif s <= 20 :\n",
    "            daun_hsl[x,y][2] = 0\n",
    "        else :\n",
    "            daun_hsl[x,y][2] = 128\n",
    "        if l >= 200 :\n",
    "            daun_hsl[x,y][1] = 255;\n",
    "        elif l <= 20 :\n",
    "            daun_hsl[x,y][1] = 0;\n",
    "        else :\n",
    "            daun_hsl[x,y][1] = 128;\n",
    "\n",
    "daun_res = cv2.cvtColor(daun_hsl, cv2.COLOR_HLS2BGR)"
   ]
  },
  {
   "cell_type": "code",
   "execution_count": 1,
   "id": "09fdb64f",
   "metadata": {},
   "outputs": [
    {
     "ename": "NameError",
     "evalue": "name 'cv2' is not defined",
     "output_type": "error",
     "traceback": [
      "\u001b[1;31m---------------------------------------------------------------------------\u001b[0m",
      "\u001b[1;31mNameError\u001b[0m                                 Traceback (most recent call last)",
      "\u001b[1;32mC:\\Users\\JUNITA~1\\AppData\\Local\\Temp/ipykernel_5696/2187154567.py\u001b[0m in \u001b[0;36m<module>\u001b[1;34m\u001b[0m\n\u001b[1;32m----> 1\u001b[1;33m \u001b[0mcv2\u001b[0m\u001b[1;33m.\u001b[0m\u001b[0mimshow\u001b[0m\u001b[1;33m(\u001b[0m\u001b[1;34m\"image\"\u001b[0m\u001b[1;33m,\u001b[0m \u001b[0mdaun_res\u001b[0m\u001b[1;33m)\u001b[0m\u001b[1;33m\u001b[0m\u001b[1;33m\u001b[0m\u001b[0m\n\u001b[0m\u001b[0;32m      2\u001b[0m \u001b[0mcv2\u001b[0m\u001b[1;33m.\u001b[0m\u001b[0mwaitKey\u001b[0m\u001b[1;33m(\u001b[0m\u001b[1;36m0\u001b[0m\u001b[1;33m)\u001b[0m\u001b[1;33m\u001b[0m\u001b[1;33m\u001b[0m\u001b[0m\n\u001b[0;32m      3\u001b[0m \u001b[0mcv2\u001b[0m\u001b[1;33m.\u001b[0m\u001b[0mdestroyAllWindows\u001b[0m\u001b[1;33m(\u001b[0m\u001b[1;33m)\u001b[0m\u001b[1;33m\u001b[0m\u001b[1;33m\u001b[0m\u001b[0m\n",
      "\u001b[1;31mNameError\u001b[0m: name 'cv2' is not defined"
     ]
    }
   ],
   "source": [
    "cv2.imshow(\"image\", daun_res)\n",
    "cv2.waitKey(0)\n",
    "cv2.destroyAllWindows()"
   ]
  },
  {
   "cell_type": "code",
   "execution_count": null,
   "id": "af02b499",
   "metadata": {},
   "outputs": [],
   "source": []
  }
 ],
 "metadata": {
  "kernelspec": {
   "display_name": "Python 3 (ipykernel)",
   "language": "python",
   "name": "python3"
  },
  "language_info": {
   "codemirror_mode": {
    "name": "ipython",
    "version": 3
   },
   "file_extension": ".py",
   "mimetype": "text/x-python",
   "name": "python",
   "nbconvert_exporter": "python",
   "pygments_lexer": "ipython3",
   "version": "3.9.7"
  }
 },
 "nbformat": 4,
 "nbformat_minor": 5
}
